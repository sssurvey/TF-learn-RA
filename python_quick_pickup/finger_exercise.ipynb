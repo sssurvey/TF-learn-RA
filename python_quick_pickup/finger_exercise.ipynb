{
 "cells": [
  {
   "cell_type": "code",
   "execution_count": 3,
   "metadata": {},
   "outputs": [],
   "source": [
    "import random"
   ]
  },
  {
   "cell_type": "code",
   "execution_count": 4,
   "metadata": {},
   "outputs": [
    {
     "name": "stdout",
     "output_type": "stream",
     "text": [
      "4266315242\n"
     ]
    }
   ],
   "source": [
    "def rollDie():\n",
    "    return random.choice([1,2,3,4,5,6])\n",
    "\n",
    "def rollN(n):\n",
    "    result = \"\"\n",
    "    for i in range(n):\n",
    "        result = result+str(rollDie())\n",
    "    print (result)\n",
    "    \n",
    "rollN(10)"
   ]
  },
  {
   "cell_type": "code",
   "execution_count": 5,
   "metadata": {},
   "outputs": [
    {
     "name": "stdout",
     "output_type": "stream",
     "text": [
      "0.51\n"
     ]
    }
   ],
   "source": [
    "def flipACoind(t):\n",
    "    \"\"\"the coin flip sim\"\"\"\n",
    "    head = 1\n",
    "    tail = 0\n",
    "    result = 0\n",
    "    for i in range(t):\n",
    "        _ = random.random()\n",
    "        if _ > 0.5:\n",
    "            result = result+head\n",
    "        elif _ < 0.5:\n",
    "            result = result+tail\n",
    "        else:\n",
    "            result = result+random.choice([head,tail])\n",
    "    print (result/t)\n",
    "\n",
    "flipACoind(100)"
   ]
  },
  {
   "cell_type": "code",
   "execution_count": 6,
   "metadata": {},
   "outputs": [],
   "source": [
    "def binarySearch(l, key):\n",
    "    \"\"\"binary search, pass a sorted list and a key\"\"\"\n",
    "    def search(l, key, low, high):\n",
    "        if high == low: #if the list is just that 1 length, check if its equal\n",
    "            return l[low] == key\n",
    "        mid = (low + high)//2 # find the mid point\n",
    "        if l[mid] == key:\n",
    "            return True # return right away if the mid point is the ans\n",
    "        elif l[mid] > key:\n",
    "            if low == mid:\n",
    "                return False\n",
    "            else:\n",
    "                return search(l, key, low, mid-1)\n",
    "        else:\n",
    "            return search(l, key, mid+1, high)\n",
    "        \n",
    "    # --------------------------------------------------\n",
    "    if len(l) == 0:\n",
    "        return False\n",
    "    else:\n",
    "        return search(l, key, 0, len(l)-1)"
   ]
  },
  {
   "cell_type": "code",
   "execution_count": 10,
   "metadata": {},
   "outputs": [
    {
     "name": "stdout",
     "output_type": "stream",
     "text": [
      "True\n"
     ]
    }
   ],
   "source": [
    "l = [1,2,3,4,5,6,7,8,9,0]\n",
    "print(binarySearch(l, 4))"
   ]
  },
  {
   "cell_type": "markdown",
   "metadata": {},
   "source": [
    "# A merge sort implementation"
   ]
  },
  {
   "cell_type": "code",
   "execution_count": 12,
   "metadata": {
    "scrolled": true
   },
   "outputs": [
    {
     "name": "stdout",
     "output_type": "stream",
     "text": [
      "Splitting  [54, 26, 93, 17, 77, 31, 44, 55, 20]\n",
      "Splitting  [54, 26, 93, 17]\n",
      "Splitting  [54, 26]\n",
      "Splitting  [54]\n",
      "Merging  [54]\n",
      "Splitting  [26]\n",
      "Merging  [26]\n",
      "Merging  [26, 54]\n",
      "Splitting  [93, 17]\n",
      "Splitting  [93]\n",
      "Merging  [93]\n",
      "Splitting  [17]\n",
      "Merging  [17]\n",
      "Merging  [17, 93]\n",
      "Merging  [17, 26, 54, 93]\n",
      "Splitting  [77, 31, 44, 55, 20]\n",
      "Splitting  [77, 31]\n",
      "Splitting  [77]\n",
      "Merging  [77]\n",
      "Splitting  [31]\n",
      "Merging  [31]\n",
      "Merging  [31, 77]\n",
      "Splitting  [44, 55, 20]\n",
      "Splitting  [44]\n",
      "Merging  [44]\n",
      "Splitting  [55, 20]\n",
      "Splitting  [55]\n",
      "Merging  [55]\n",
      "Splitting  [20]\n",
      "Merging  [20]\n",
      "Merging  [20, 55]\n",
      "Merging  [20, 44, 55]\n",
      "Merging  [20, 31, 44, 55, 77]\n",
      "Merging  [17, 20, 26, 31, 44, 54, 55, 77, 93]\n",
      "[17, 20, 26, 31, 44, 54, 55, 77, 93]\n"
     ]
    }
   ],
   "source": [
    "def mergeSort(alist):\n",
    "    print(\"Splitting \",alist)\n",
    "    if len(alist)>1:\n",
    "        # if the list is longer than 1, this is actually prepering for the broken down list\n",
    "        mid = len(alist)//2 # devide the list to 2 and find the middle point\n",
    "        lefthalf = alist[:mid] # [0:mid]\n",
    "        righthalf = alist[mid:] # [mid:len(list)]\n",
    "\n",
    "        mergeSort(lefthalf) #recursive split the left []\n",
    "        mergeSort(righthalf) #vice versa\n",
    "        # ----------------------------------------------------------------\n",
    "        # only above will be executed if the list is not break down to 1\n",
    "        \n",
    "        i=0\n",
    "        j=0\n",
    "        k=0\n",
    "        \n",
    "        while i < len(lefthalf) and j < len(righthalf):\n",
    "            if lefthalf[i] < righthalf[j]:\n",
    "                alist[k]=lefthalf[i]\n",
    "                i=i+1\n",
    "            else:\n",
    "                alist[k]=righthalf[j]\n",
    "                j=j+1\n",
    "            k=k+1\n",
    "\n",
    "        while i < len(lefthalf):\n",
    "            alist[k]=lefthalf[i]\n",
    "            i=i+1\n",
    "            k=k+1\n",
    "\n",
    "        while j < len(righthalf):\n",
    "            alist[k]=righthalf[j]\n",
    "            j=j+1\n",
    "            k=k+1\n",
    "    print(\"Merging \",alist)\n",
    "\n",
    "alist = [54,26,93,17,77,31,44,55,20]\n",
    "mergeSort(alist)\n",
    "print(alist)"
   ]
  },
  {
   "cell_type": "markdown",
   "metadata": {},
   "source": [
    "# multi-threading in py"
   ]
  },
  {
   "cell_type": "code",
   "execution_count": null,
   "metadata": {},
   "outputs": [],
   "source": [
    "import thread"
   ]
  }
 ],
 "metadata": {
  "kernelspec": {
   "display_name": "Python 3",
   "language": "python",
   "name": "python3"
  },
  "language_info": {
   "codemirror_mode": {
    "name": "ipython",
    "version": 3
   },
   "file_extension": ".py",
   "mimetype": "text/x-python",
   "name": "python",
   "nbconvert_exporter": "python",
   "pygments_lexer": "ipython3",
   "version": "3.6.3"
  }
 },
 "nbformat": 4,
 "nbformat_minor": 2
}
